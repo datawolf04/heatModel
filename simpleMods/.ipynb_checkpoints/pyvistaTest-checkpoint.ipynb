{
 "cells": [
  {
   "cell_type": "markdown",
   "id": "f7db6d3d-0b7c-4afc-8f36-01eda26b3e71",
   "metadata": {},
   "source": [
    "This is a calculation of the finite element method for a uniform temperature slab."
   ]
  },
  {
   "cell_type": "code",
   "execution_count": 1,
   "id": "4bc439bb-cf9e-4dc0-9094-529aa285daef",
   "metadata": {},
   "outputs": [
    {
     "name": "stderr",
     "output_type": "stream",
     "text": [
      "wolfFamMini.5885RTC timebase, using 616 picos/cycle from /proc instead of the detected 1240 picos/cycle\n",
      "\n",
      "wolfFamMini.5885RTC timebase, using 368 picos/cycle from /proc instead of the detected 1240 picos/cycle\n",
      "\n",
      "wolfFamMini.5885RTC timebase, using 747 picos/cycle from /proc instead of the detected 1240 picos/cycle\n",
      "\n",
      "wolfFamMini.5885RTC timebase, using 999 picos/cycle from /proc instead of the detected 1240 picos/cycle\n",
      "\n"
     ]
    }
   ],
   "source": [
    "import numpy as np\n",
    "import matplotlib as mpl\n",
    "# from matplotlib.colors import LinearSegmentedColormap, ListedColormap\n",
    "\n",
    "from petsc4py import PETSc\n",
    "from mpi4py import MPI\n",
    "import pyvista\n",
    "\n",
    "from dolfinx import io, plot\n",
    "from dolfinx.fem import (Constant,  Function, functionspace, form)\n",
    "from dolfinx.fem.petsc import (assemble_matrix, create_vector, \n",
    "                               assemble_vector, apply_lifting, set_bc)\n",
    "from dolfinx import mesh\n",
    "from ufl import (SpatialCoordinate, inner, Measure, TrialFunction, TestFunction, grad)\n",
    "\n",
    "# print(pyvista.global_theme.jupyter_backend)\n",
    "pyvista.set_jupyter_backend('html')\n",
    "# pyvista.OFF_SCREEN = True"
   ]
  },
  {
   "cell_type": "markdown",
   "id": "6b3ca6a6-ba87-4f3b-8d89-983047e5b731",
   "metadata": {},
   "source": [
    "Set up the domain and temp parameters."
   ]
  },
  {
   "cell_type": "code",
   "execution_count": 2,
   "id": "0aa9d727-253a-4dfb-aa5c-821dc350e13f",
   "metadata": {},
   "outputs": [],
   "source": [
    "#######################################\n",
    "# Set up the simulation parameters\n",
    "t = 0 \n",
    "final_time = 5.0  # Final time for the simulation\n",
    "dt = 0.05  # Time step size\n",
    "num_steps = int((final_time - t) / dt)  \n",
    "initTemp = 10.0  # Initial uniform temperature of the rod\n",
    "extTemp = 0.0  # External temperature at the boundaries (constant)\n",
    "tPlot = np.linspace(0, final_time, num_steps+1)  # Time points for plotting\n",
    "L = 1.0  # Length of the slab\n",
    "W = 2.0  # Width of the slab \n",
    "H = 1.0  # Height of the slab \n",
    "dl = 0.1 # Element size for the mesh\n",
    "nx, ny, nz = int(L/dl), int(W/dl), int(H/dl)  # Number of elements in each direction\n",
    "\n",
    "# Define the mesh and function space\n",
    "bottom_back_left = np.array([0.0, 0.0, 0.0])  # Bottom back corner of the slab\n",
    "top_front_right = np.array([L, W, H])  # Top front corner of the slab\n",
    "# Create a 3D domain representing the slab\n",
    "domain = mesh.create_box(\n",
    "    MPI.COMM_WORLD,  # MPI communicator\n",
    "    [bottom_back_left,top_front_right],  # Coordinates of the corners of the rectangle\n",
    "    [nx, ny, nz],  # Number of elements in each direction\n",
    "    mesh.CellType.tetrahedron,  # Type of elements \n",
    "    ghost_mode=mesh.GhostMode.shared_facet  # Ghost mode for shared facets\n",
    ")\n",
    "\n",
    "V = functionspace(domain, (\"Lagrange\", 1))\n",
    "tdim = domain.topology.dim  # Topological dimension of the domain\n",
    "\n",
    "x = SpatialCoordinate(domain)  # Spatial coordinates of the domain\n",
    "tempExt = lambda x: extTemp  # External temperature function (constant in this case)\n",
    "s = tempExt(x)  # External temperature at the boundary\n",
    "f = Constant(domain, PETSc.ScalarType(0))  # Source term (zero in this case)\n",
    "h = Constant(domain, PETSc.ScalarType(0.1))  # Robin boundary condition coefficient\n",
    "kappa = Constant(domain, PETSc.ScalarType(1.0))  # Thermal conductivity \n",
    "\n",
    "#########################################\n",
    "# Set up the initial condition\n",
    "def initial_condition(x, Temp=initTemp, a=0):\n",
    "    return Temp * np.exp(-a * (x[0]**2 + x[1]**2 + x[2]**2))  # Initial temperature initTemp\n",
    "# For some reason, I need to include the x variable terms to define the shape of the \n",
    "# function correctly.\n",
    "\n",
    "uPrev = Function(V)\n",
    "uPrev.name = \"uPrev\"  # Name the function for clarity\n",
    "uPrev.interpolate(initial_condition)  # Interpolate the initial condition into the function space\n",
    "\n",
    "uCurr = Function(V)  # Function to hold the solution at the current time step\n",
    "uCurr.name = \"uCurr\"  # Name the function for clarity \n",
    "uCurr.interpolate(initial_condition)  # Initialize with the same initial condition \n",
    "\n",
    "\n",
    "#######################################\n",
    "# Define the boundary conditions\n",
    "boundaries = [\n",
    "  (1, lambda x: np.isclose(x[0], 0.0)),  # Back boundary at x=0\n",
    "  (2, lambda x: np.isclose(x[0], L)),  # Front boundary at x=L\n",
    "  (3, lambda x: np.isclose(x[1], 0.0)),  # Left boundary at y=0\n",
    "  (4, lambda x: np.isclose(x[1], W)),  # Right boundary at y=W\n",
    "  (5, lambda x: np.isclose(x[2], 0.0)),  # Bottom boundary at z=0\n",
    "  (6, lambda x: np.isclose(x[2], H))  # Top boundary at z=H\n",
    "]\n",
    "\n",
    "facet_indices, facet_markers = [], []\n",
    "fdim = tdim - 1  # Dimension of the facets (2D for a slab) \n",
    "\n",
    "for (marker, locator) in boundaries:\n",
    "    facets = mesh.locate_entities(domain, fdim, locator)\n",
    "    facet_indices.append(facets)\n",
    "    facet_markers.append(np.full_like(facets, marker))\n",
    "facet_indices = np.hstack(facet_indices).astype(np.int32)\n",
    "facet_markers = np.hstack(facet_markers).astype(np.int32)\n",
    "sorted_facets = np.argsort(facet_indices)\n",
    "facet_tag = mesh.meshtags(domain, fdim, facet_indices[sorted_facets], facet_markers[sorted_facets])\n",
    "\n",
    "bcs = []  # No Dirichlet boundary conditions, so we leave this empty\n",
    "dx = Measure(\"dx\", domain=domain)  # Define the measure for the volume integral\n",
    "ds = Measure(\"ds\", domain=domain, subdomain_data=facet_tag)  # Define the measure for the boundary integral\n",
    "\n",
    "\n",
    "u = TrialFunction(V)  # Trial function for the finite element method\n",
    "v = TestFunction(V)  # Test function for the finite element method\n",
    "a = u * v * dx + dt * kappa * inner(grad(u), grad(v)) * dx  + dt * h * inner(u, v) * ds # Bilinear form for the RBC\n",
    "L = uPrev * v * dx + dt * f * v * dx + dt * h * s * v * ds  # Linear form for the RBC\n",
    "\n",
    "\n",
    "bilinear_form = form(a)  # Bilinear form for the weak formulation\n",
    "linear_form = form(L)  # Linear form for the weak formulation\n",
    "\n",
    "A = assemble_matrix(bilinear_form, bcs=bcs)  # Assemble the matrix A\n",
    "A.assemble()  # Finalize the assembly of the matrix A\n",
    "b = create_vector(linear_form)  # Create a vector for the right-hand side\n",
    "\n",
    "\n",
    "xdmf = io.XDMFFile(domain.comm, \"slabInit.xdmf\", \"w\")  # Create an XDMF file for output\n",
    "xdmf.write_mesh(domain)  # Write the mesh to the XDMF file\n",
    "xdmf.write_function(uCurr, t)  # Write the initial condition to the XDMF file \n",
    "\n",
    "\n",
    "# Create a linear solver\n",
    "solver = PETSc.KSP().create(domain.comm)\n",
    "solver.setOperators(A)  # Set the matrix A for the solver\n",
    "solver.setType(PETSc.KSP.Type.PREONLY)  # Use a preconditioner\n",
    "solver.getPC().setType(PETSc.PC.Type.LU)  # Use LU preconditioner (Gauss elimination)"
   ]
  },
  {
   "cell_type": "markdown",
   "id": "5b01361c-6dbe-440f-b030-b73d632883a8",
   "metadata": {},
   "source": [
    "Start visualizing"
   ]
  },
  {
   "cell_type": "code",
   "execution_count": 3,
   "id": "fda961fb-c5d1-403d-b54b-6697731929bd",
   "metadata": {},
   "outputs": [
    {
     "data": {
      "application/vnd.jupyter.widget-view+json": {
       "model_id": "ce069c3923fc4e908fb53a2a91a2468e",
       "version_major": 2,
       "version_minor": 0
      },
      "text/plain": [
       "EmbeddableWidget(value='<iframe srcdoc=\"<!DOCTYPE html>\\n<html>\\n  <head>\\n    <meta http-equiv=&quot;Content-…"
      ]
     },
     "metadata": {},
     "output_type": "display_data"
    }
   ],
   "source": [
    "pyvista.start_xvfb()\n",
    "\n",
    "domain.topology.create_connectivity(tdim, tdim)\n",
    "topology, cell_types, geometry = plot.vtk_mesh(V)\n",
    "grid = pyvista.UnstructuredGrid(topology, cell_types, geometry)\n",
    "grid.point_data[\"Temperature\"] = uCurr.x.array\n",
    "grid.set_active_scalars(\"Temperature\")\n",
    "\n",
    "sargs = dict(title_font_size=20, label_font_size=12, fmt=\"%.0f\", color=\"black\",\n",
    "            position_x=0.1, position_y=0.9, width=0.8, height=0.07)\n",
    "\n",
    "plotter = pyvista.Plotter()\n",
    "plotter.add_mesh(grid, show_edges=True, lighting=False,\n",
    "                 cmap='viridis', scalar_bar_args=sargs,\n",
    "                 clim=[extTemp,initTemp])\n",
    "if not pyvista.OFF_SCREEN:\n",
    "    plotter.show()\n"
   ]
  },
  {
   "cell_type": "code",
   "execution_count": null,
   "id": "5e9205de-3f37-4d54-b7f4-61a845354662",
   "metadata": {},
   "outputs": [],
   "source": []
  }
 ],
 "metadata": {
  "kernelspec": {
   "display_name": "Python 3 (ipykernel)",
   "language": "python",
   "name": "python3"
  },
  "language_info": {
   "codemirror_mode": {
    "name": "ipython",
    "version": 3
   },
   "file_extension": ".py",
   "mimetype": "text/x-python",
   "name": "python",
   "nbconvert_exporter": "python",
   "pygments_lexer": "ipython3",
   "version": "3.10.12"
  }
 },
 "nbformat": 4,
 "nbformat_minor": 5
}
