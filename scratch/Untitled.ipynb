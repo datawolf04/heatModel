{
 "cells": [
  {
   "cell_type": "markdown",
   "id": "d7ba256a-e1da-4f3f-8b98-9524d3a6a262",
   "metadata": {},
   "source": [
    "# Heat Equation, \n",
    "Uniform temperature initial condition\n",
    "$$\n",
    "u(x,0) = u_0\n",
    "$$\n",
    "\n",
    "## Dirchelet Boundary Conditions\n",
    "\n",
    "Set temperature equal to zero on the boundary. Solution is:\n",
    "\n",
    "$$\n",
    "u(x,t) = \\sum_{k=1}^{\\infty} \\frac{4 u_0}{(2k+1)\\pi} \\exp\\left(-\\frac{\\alpha (2k+1)^2\\pi^2 t}{L}\\right) \\sin\\left(\\frac{(2k+1)\\pi x}{L}\\right) \n",
    "$$\n",
    "\n",
    "Converting to dimensionless time/space/temperature units $(\\alpha = L = u_0 = 1)$ we get:\n",
    "$$\n",
    "u(x,t) = \\sum_{k=1}^{\\infty} \\frac{4}{(2k+1)\\pi} \\exp\\left(-(2k+1)^2\\pi^2 t\\right) \\sin\\left((2k+1)\\pi x\\right) \n",
    "$$\n"
   ]
  },
  {
   "cell_type": "code",
   "execution_count": 43,
   "id": "c5e96001-5a59-4657-9007-d6647681d1ad",
   "metadata": {},
   "outputs": [
    {
     "data": {
      "text/plain": [
       "array([[ 8.05581036,  0.        ,  0.        ],\n",
       "       [ 0.        , -2.87554257,  0.        ],\n",
       "       [ 0.        ,  0.        , -5.18026779]])"
      ]
     },
     "execution_count": 43,
     "metadata": {},
     "output_type": "execute_result"
    }
   ],
   "source": [
    "import numpy as np\n",
    "\n",
    "A = np.array([[0,3,4], [3,0,5], [4,5,0]])\n",
    "\n",
    "eVals, eVecs = np.linalg.eig(A)\n",
    "eValDiag = np.diag(eVals)\n",
    "eValDiag"
   ]
  },
  {
   "cell_type": "code",
   "execution_count": 44,
   "id": "29e0e800-20be-4596-8a64-2be84cf99b37",
   "metadata": {},
   "outputs": [
    {
     "data": {
      "text/plain": [
       "array([[ 4.23016912,  6.56488249, -1.97587136],\n",
       "       [-1.67163019,  1.59293576,  1.71375413],\n",
       "       [-3.21978053,  0.88255155, -3.9609709 ]])"
      ]
     },
     "execution_count": 44,
     "metadata": {},
     "output_type": "execute_result"
    }
   ],
   "source": [
    "np.matmul(eValDiag,eVecs)"
   ]
  },
  {
   "cell_type": "code",
   "execution_count": 42,
   "id": "a48270a6-ba12-4b65-a0ec-bdaee1f43e88",
   "metadata": {},
   "outputs": [
    {
     "data": {
      "text/plain": [
       "array([[ 4.23016912, -2.34335197,  1.27057891],\n",
       "       [ 4.6830591 ,  1.59293576,  3.08731487],\n",
       "       [ 5.00706573,  0.48990026, -3.9609709 ]])"
      ]
     },
     "execution_count": 42,
     "metadata": {},
     "output_type": "execute_result"
    }
   ],
   "source": [
    "np.matmul(A,eVecs)"
   ]
  },
  {
   "cell_type": "code",
   "execution_count": 41,
   "id": "54836f21-fc24-4271-a7b0-a12a34cb1bcc",
   "metadata": {},
   "outputs": [
    {
     "data": {
      "text/plain": [
       "array([ 4.23016912,  6.56488249, -1.97587136])"
      ]
     },
     "execution_count": 41,
     "metadata": {},
     "output_type": "execute_result"
    }
   ],
   "source": [
    "eVals[0]*eVecs[0,:]"
   ]
  },
  {
   "cell_type": "code",
   "execution_count": 83,
   "id": "9169b8cd-3bbc-48e5-90e8-aaa05de9592a",
   "metadata": {},
   "outputs": [
    {
     "data": {
      "image/png": "[encoded data removed]",
      "text/plain": [
       "<Figure size 640x480 with 1 Axes>"
      ]
     },
     "metadata": {},
     "output_type": "display_data"
    }
   ],
   "source": [
    "import matplotlib.pyplot as plt\n",
    "\n",
    "colMeans = np.mean(A, axis=0)\n",
    "for i in range(3):\n",
    "    A[:,i] = A[:,i] - colMeans[i]\n",
    "C = np.cov(A, rowvar=False)\n",
    "lam, prinAxes = np.linalg.eig(C)\n",
    "\n",
    "prinComs = A.dot(prinAxes)\n",
    "pc1 = prinComs[:,0]\n",
    "pc2 = prinComs[:,1]\n",
    "plt.plot(pc1, pc2,'.')\n",
    "plt.axis('equal')\n",
    "plt.grid()\n",
    "plt.show()"
   ]
  },
  {
   "cell_type": "code",
   "execution_count": null,
   "id": "f75452a5-98f5-4b08-90f4-523dc66991f7",
   "metadata": {},
   "outputs": [],
   "source": []
  }
 ],
 "metadata": {
  "kernelspec": {
   "display_name": "Python 3 (ipykernel)",
   "language": "python",
   "name": "python3"
  },
  "language_info": {
   "codemirror_mode": {
    "name": "ipython",
    "version": 3
   },
   "file_extension": ".py",
   "mimetype": "text/x-python",
   "name": "python",
   "nbconvert_exporter": "python",
   "pygments_lexer": "ipython3",
   "version": "3.12.2"
  }
 },
 "nbformat": 4,
 "nbformat_minor": 5
}
