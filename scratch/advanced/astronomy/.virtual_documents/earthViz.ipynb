from vpython import *

sphere(pos=vec(3,0,0), radius=2)
