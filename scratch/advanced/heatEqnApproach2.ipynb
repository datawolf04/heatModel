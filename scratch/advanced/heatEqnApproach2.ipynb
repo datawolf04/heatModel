{
 "cells": [
  {
   "cell_type": "markdown",
   "id": "505cd597-1582-44f2-bace-8b2a8bf2dcdb",
   "metadata": {},
   "source": [
    "## Background\n",
    "Previously, I modeled a \"heat box\", but ignored the effects of the sun. As anyone who has had to get into a car that has sat outside for a while on a hot summer day, the inside of the car is warmer than the outside air temperature, and my previous model didn't allow that. So the sun is important.  Consider the following information from [The Humane Society](https://www.humanesociety.org/resources/what-do-if-you-see-pet-parked-car).\n",
    "\n",
    "> It doesn't have to be that warm outside for a car to become dangerously hot inside.\n",
    ">\n",
    "> - When it's 72 degrees Fahrenheit outside, the temperature inside your car can heat up to 116 degrees Fahrenheit within an hour.\n",
    "> - When it's 80 degrees Fahrenheit outside, the temperature inside your car can heat up to 99 degrees Fahrenheit within 10 minutes.\n",
    "> - Rolling down the windows has been shown to have little effect on the temperature inside a car.\n",
    "\n",
    "Let's translate these temperatures to Celsius and Kelvin\n",
    "\n",
    "- When it's 22 degrees Celsius (295 K) outside, the temperature inside your car can heat up to 47 degrees Celsius (320 K) within an hour.\n",
    "- When it's 27 degrees Celsius (300 K) outside, the temperature inside your car can heat up to 37 degrees Celsius (310 K) within 10 minutes.\n",
    "\n",
    "My plan for this post is to assume that my heat box will heat up similarly to the above generic car, and see what sort of parameters I need to make that work.\n",
    "\n",
    "## Previous work\n",
    "As before, I'll model the system as a simple box, utilizing the same thermal properties for the material.  "
   ]
  },
  {
   "cell_type": "code",
   "execution_count": 1,
   "id": "a969507e-4023-4406-af5f-6ec8ef1f3a65",
   "metadata": {},
   "outputs": [],
   "source": [
    "import numpy as np\n",
    "\n",
    "# Heat parameters\n",
    "thermalDiffusivity = 22.39e-6 # meters^2/s for air\n",
    "heatTransferCoef = 1 # For a typical metal to air\n",
    "thermalConductivity = 50 # For a typical metal\n",
    "specificHeat = 1000 # for aluminum\n",
    "wallDensity = 3000 # kg/m^3 for aluminum\n",
    "wallThickness = 0.002 # m\n",
    "solarIntensity = 1000 # W/m^2\n",
    "\n",
    "# Length parameters (meters)\n",
    "L = 2\n",
    "W = 1\n",
    "H = 1\n",
    "\n",
    "Deltax = 0.05\n",
    "xmax = int(L/Deltax)\n",
    "ymax = int(W/Deltax)\n",
    "zmax = int(H/Deltax)\n",
    "\n",
    "xmid = xmax // 2\n",
    "ymid = ymax // 2\n",
    "zmid = zmax // 2\n",
    "\n",
    "xgrid = np.linspace(0,L,xmax+1)\n",
    "ygrid = np.linspace(0,W,ymax+1)\n",
    "zgrid = np.linspace(0,H,zmax+1)\n",
    "\n",
    "u0 = np.empty((xmax,ymax,zmax))"
   ]
  },
  {
   "cell_type": "markdown",
   "id": "cb105218-cda2-4604-921e-4d5aee1387a6",
   "metadata": {},
   "source": [
    "## Heat Equation\n",
    "The heat equation is:\n",
    "\n",
    "$$\n",
    "\\frac{\\partial u}{\\partial t} = \\alpha \\nabla^2u + f\n",
    "$$\n",
    "\n",
    "where $u = u(x,y,z,t)$ is a function that describes the temperature in a system, $\\alpha$ is the thermal diffusivity, and $f = f(x,y,z,t)$ is a function describing internal heat generation in a material:\n",
    "\n",
    "$$\n",
    "f(x,y,z,t) = \\frac{P(x,y,z,t)}{c\\rho}\n",
    "$$\n",
    "\n",
    "where $c$ is the specific heat of the material, $\\rho$ is the density of the material, and $P(x,y,z,t)$ describes the power generation per unit volume in the material. \n",
    "\n",
    "### Finite element analysis\n",
    "In my previous post, I broke down the temperature function as follows:\n",
    "$$\n",
    "u(x,y,z,t) \\rightarrow u(x_i,y_j,z_k,t_l) = u^l_{ijk}\n",
    "$$\n",
    "\n",
    "Rather making the system discrete in space **and** time, I will make the system discrete in space only:\n",
    "$$\n",
    "u(x,y,z,t) \\rightarrow u(x_i,y_j,z_k,t) = u_{ijk}(t)\n",
    "$$\n",
    "\n",
    "The Laplacian using the finite element analysis is:\n",
    "\n",
    "\\begin{align*}\n",
    "\\nabla^2 u(x,y,z,t) &\\rightarrow \\frac{1}{\\Delta x\\Delta y\\Delta z} \\left(\\Delta y \\Delta z \\frac{u_{i-1,j,k}(t) + u_{i+1,j,k}(t) - 2 u_{i,j,k}(t)}{\\Delta x} \n",
    "            + \\Delta x \\Delta z \\frac{u_{i,j-1,k}(t) + u_{i,j+1,k}(t) - 2 u_{i,j,k}(t)}{\\Delta y} \n",
    "            + \\Delta x \\Delta y \\frac{u_{i,j,k-1}(t) + u_{i,j,k+1}(t) - 2 u_{i,j,k}(t)}{\\Delta z}\\right) \\\\\n",
    "            &= \\frac{u_{i-1,j,k}(t) + u_{i+1,j,k}(t) - 2 u_{i,j,k}(t)}{\\Delta x^2} \n",
    "            + \\frac{u_{i,j-1,k}(t) + u_{i,j+1,k}(t) - 2 u_{i,j,k}(t)}{\\Delta y^2} \n",
    "            + \\frac{u_{i,j,k-1}(t) + u_{i,j,k+1}(t) - 2 u_{i,j,k}(t)}{\\Delta z^2}\n",
    "\\end{align*}\n",
    "\n",
    "If we generate our grid with $\\Delta x = \\Delta y = \\Delta z$, we obtain:\n",
    "\n",
    "$$\n",
    "\\nabla^2 u_{i,j,k}(t) = \\frac{u_{i-1,j,k}(t) + u_{i+1,j,k}(t) + u_{i,j-1,k}(t) + u_{i,j+1,k}(t) + u_{i,j,k-1}(t) + u_{i,j,k+1}(t) - 6 u_{i,j,k}(t)}{\\Delta x^2}\n",
    "$$"
   ]
  },
  {
   "cell_type": "markdown",
   "id": "8d1e178f-93a9-4ec3-8dd4-c8a734920ffd",
   "metadata": {},
   "source": [
    "### Incorporating boundary conditions\n",
    "Essentially, the heat equation is a statement of energy density flow within a system. \n",
    "$$\n",
    "\\frac{du_{ijk}(t)}{\\partial t} = \\alpha \\nabla^2 u_{ijk}(t) + f_{ijk}(t) + \\frac{\\text{Boundary power exchanged per unit volume}}{c\\rho}\n",
    "$$\n",
    "where the third term is non-zero only on the boundary."
   ]
  },
  {
   "cell_type": "markdown",
   "id": "e3571719-3859-43c6-972f-85dfba335e2d",
   "metadata": {},
   "source": [
    "#### Heat Equation on a boundary *surface*\n",
    "So if we are considering the $x=0, i=0$ surface:\n",
    "$$\n",
    "\\frac{du_{0,j,k}(t)}{\\partial t} = \\alpha \\nabla^2 u_{0,j,k}(t) + f_{0jk}(t) + \\frac{h}{c\\rho}(T_{\\text{air}}-u_{0,j,k})\n",
    "$$\n",
    "where\n",
    "\n",
    "\\begin{align*}\n",
    "\\nabla^2 u_{0,j,k}(t) &= \\frac{1}{\\Delta x\\Delta y\\Delta z} \\left(\\Delta y \\Delta z \\frac{u_{1,j,k}(t) - u_{1,j,k}(t)}{\\Delta x} \n",
    "            + \\frac{\\Delta x}{2} \\Delta z \\frac{u_{0,j-1,k}(t) + u_{0,j+1,k}(t) - 2 u_{0,j,k}(t)}{\\Delta y} \n",
    "            + \\frac{\\Delta x}{2} \\Delta y \\frac{u_{0,j,k-1}(t) + u_{0,j,k+1}(t) - 2 u_{0,j,k}(t)}{\\Delta z}\\right) \\\\\n",
    "    &= \\frac{1}{2} \\left(\\frac{2 u_{1,j,k}(t) - 2 u_{1,j,k}(t)}{\\Delta x^2} \n",
    "            + \\frac{u_{0,j-1,k}(t) + u_{0,j+1,k}(t) - 2 u_{0,j,k}(t)}{\\Delta y^2} \n",
    "            + \\frac{u_{0,j,k-1}(t) + u_{0,j,k+1}(t) - 2 u_{0,j,k}(t)}{\\Delta z^2}\\right) \\\\\n",
    "\\end{align*}\n",
    "\n",
    "Again, with a uniform grid, this becomes:\n",
    "$$\n",
    "\\nabla^2 u_{0,j,k}(t) = \\frac{2 u_{1,j,k}(t) + u_{0,j-1,k}(t) + u_{0,j+1,k}(t) + u_{0,j,k-1}(t) + u_{0,j,k+1}(t) - 6 u_{0,j,k}(t)}{2 \\Delta x^2}\n",
    "$$\n",
    "\n",
    "Following a similar method we can find for all 6 surfaces:\n",
    "\n",
    "\\begin{align*}\n",
    "\\nabla^2 u_{0,j,k}(t) &= \\frac{2 u_{1,j,k}(t) + u_{0,j-1,k}(t) + u_{0,j+1,k}(t) + u_{0,j,k-1}(t) + u_{0,j,k+1}(t) - 6 u_{0,j,k}(t)}{2 \\Delta x^2} \\\\\n",
    "\\nabla^2 u_{I,j,k}(t) &= \\frac{2 u_{I-1,j,k}(t) + u_{I,j-1,k}(t) + u_{I,j+1,k}(t) + u_{I,j,k-1}(t) + u_{I,j,k+1}(t) - 6 u_{I,j,k}(t)}{2 \\Delta x^2} \\\\\n",
    "\\nabla^2 u_{i,0,k}(t) &= \\frac{2 u_{i,1,k}(t) + u_{i-1,0,k}(t) + u_{i+1,0,k}(t) + u_{i,0,k-1}(t) + u_{i,0,k+1}(t) - 6 u_{i,0,k}(t)}{2 \\Delta x^2} \\\\\n",
    "\\nabla^2 u_{i,J,k}(t) &= \\frac{2 u_{i,J-1,k}(t) + u_{i-1,J,k}(t) + u_{i+1,J,k}(t) + u_{i,J,k-1}(t) + u_{i,J,k+1}(t) - 6 u_{i,J,k}(t)}{2 \\Delta x^2} \\\\\n",
    "\\nabla^2 u_{i,j,0}(t) &= \\frac{2 u_{i,j,1}(t) + u_{i-1,j,0}(t) + u_{i+1,j,0}(t) + u_{i,j-1,0}(t) + u_{i,j+1,0}(t) - 6 u_{i,j,0}(t)}{2 \\Delta x^2} \\\\\n",
    "\\nabla^2 u_{i,j,K}(t) &= \\frac{2 u_{i,j,K-1}(t) + u_{i,j-1,K}(t) + u_{i,j+1,K}(t) + u_{i,j,K}(t) + u_{i,j,k+1}(t) - 6 u_{i,j,K}(t)}{2 \\Delta x^2} \\\\\n",
    "\\end{align*}"
   ]
  },
  {
   "cell_type": "markdown",
   "id": "88752e6d-fa61-494e-b47e-344d60e2bf4d",
   "metadata": {},
   "source": [
    "#### Heat equation on a boundary *edge*\n",
    "So if we are considering the $x=0, i=0$, $y=0, j=0$ edge:\n",
    "$$\n",
    "\\frac{du_{0,0,k}(t)}{\\partial t} = \\alpha \\nabla^2 u_{0,0,k}(t) + f_{0,0,k}(t) + \\frac{h}{c\\rho}(T_{\\text{air}}-u_{0,0,k})\n",
    "$$\n",
    "where\n",
    "\n",
    "\\begin{align*}\n",
    "\\nabla^2 u_{0,0,k}(t) &= \\frac{1}{\\Delta x\\Delta y\\Delta z} \\left(\\frac{\\Delta y}{2} \\Delta z \\frac{u_{1,0,k}(t) - u_{0,0,k}(t)}{\\Delta x} \n",
    "            + \\frac{\\Delta x}{2} \\Delta z \\frac{u_{0,1,k}(t) - u_{0,0,k}(t)}{\\Delta y} \n",
    "            + \\frac{\\Delta x}{2} \\frac{\\Delta y}{2} \\frac{u_{0,0,k-1}(t) + u_{0,0,k+1}(t) - 2 u_{0,0,k}(t)}{\\Delta z}\\right) \\\\\n",
    "    &= \\frac{1}{4} \\left(\\frac{2u_{1,0,k}(t) - 2u_{0,0,k}(t)}{\\Delta x^2} \n",
    "            + \\frac{2u_{0,1,k}(t) - 2u_{0,0,k}(t)}{\\Delta y^2} \n",
    "            + \\frac{u_{0,0,k-1}(t) + u_{0,0,k+1}(t) - 2 u_{0,0,k}(t)}{\\Delta z^2}\\right) \\\\\n",
    "\\end{align*}\n",
    "\n",
    "Again, with a uniform grid, this becomes:\n",
    "$$\n",
    "\\nabla^2 u_{0,0,k}(t) = \\frac{2 u_{1,0,k}(t) +  2 u_{0,1,k}(t) + u_{0,0,k-1}(t) + u_{0,0,k+1}(t) - 6 u_{0,0,k}(t)}{4 \\Delta x^2}\n",
    "$$\n",
    "\n",
    "Following a similar method we can find for all 12 edges:\n",
    "\n",
    "\\begin{align*}\n",
    "    \\nabla^2 u_{0,0,k}(t) &= \\frac{2 u_{1,0,k}(t) +  2 u_{0,1,k}(t) + u_{0,0,k-1}(t) + u_{0,0,k+1}(t) - 6 u_{0,0,k}(t)}{4 \\Delta x^2} \\\\\n",
    "    \\nabla^2 u_{0,J,k}(t) &= \\frac{2 u_{1,J,k}(t) +  2 u_{0,J-1,k}(t) + u_{0,J,k-1}(t) + u_{0,J,k+1}(t) - 6 u_{0,J,k}(t)}{4 \\Delta x^2} \\\\\n",
    "    \\nabla^2 u_{0,j,0}(t) &= \\frac{2 u_{1,j,0}(t) +  2 u_{0,j,1}(t) + u_{0,j-1,0}(t) + u_{0,j+1,0}(t) - 6 u_{0,j,0}(t)}{4 \\Delta x^2} \\\\\n",
    "    \\nabla^2 u_{0,j,K}(t) &= \\frac{2 u_{1,j,K}(t) +  2 u_{0,j,K-1}(t) + u_{0,j-1,K}(t) + u_{0,j+1,0}(t) - 6 u_{0,j,K}(t)}{4 \\Delta x^2} \\\\\n",
    "    \\nabla^2 u_{I,0,k}(t) &= \\frac{2 u_{I-1,0,k}(t) +  2 u_{I,1,k}(t) + u_{I,0,k-1}(t) + u_{I,0,k+1}(t) - 6 u_{I,0,k}(t)}{4 \\Delta x^2} \\\\\n",
    "    \\nabla^2 u_{I,J,k}(t) &= \\frac{2 u_{I-1,J,k}(t) +  2 u_{I,J-1,k}(t) + u_{I,J,k-1}(t) + u_{I,J,k+1}(t) - 6 u_{I,J,k}(t)}{4 \\Delta x^2} \\\\\n",
    "    \\nabla^2 u_{I,j,0}(t) &= \\frac{2 u_{I-1,j,0}(t) +  2 u_{I,j,1}(t) + u_{I,j-1,0}(t) + u_{I,j+1,0}(t) - 6 u_{I,j,0}(t)}{4 \\Delta x^2} \\\\\n",
    "    \\nabla^2 u_{I,j,K}(t) &= \\frac{2 u_{I-1,j,K}(t) +  2 u_{I,j,K-1}(t) + u_{I,j-1,K}(t) + u_{I,j+1,K}(t) - 6 u_{I,j,K}(t)}{4 \\Delta x^2} \\\\\n",
    "    \\nabla^2 u_{i,0,0}(t) &= \\frac{2 u_{i,0,1}(t) +  2 u_{i,1,0}(t) + u_{i-1,0,0}(t) + u_{i+1,0,0}(t) - 6 u_{i,0,0}(t)}{4 \\Delta x^2} \\\\\n",
    "    \\nabla^2 u_{i,0,K}(t) &= \\frac{2 u_{i,0,K-1}(t) +  2 u_{i,1,K}(t) + u_{i-1,0,K}(t) + u_{i+1,0,K}(t) - 6 u_{i,0,K}(t)}{4 \\Delta x^2} \\\\\n",
    "    \\nabla^2 u_{i,J,0}(t) &= \\frac{2 u_{i,J,1}(t) +  2 u_{i,J-1,0}(t) + u_{i-1,J,0}(t) + u_{i+1,J,0}(t) - 6 u_{i,J,0}(t)}{4 \\Delta x^2} \\\\\n",
    "    \\nabla^2 u_{i,J,K}(t) &= \\frac{2 u_{i,J,K-1}(t) +  2 u_{i,J-1,K}(t) + u_{i-1,J,K}(t) + u_{i+1,J,K}(t) - 6 u_{i,J,K}(t)}{4 \\Delta x^2} \\\\\n",
    "\\end{align*}"
   ]
  },
  {
   "cell_type": "markdown",
   "id": "91e8f9e1-cf38-40d7-a071-f32aef91fc0b",
   "metadata": {},
   "source": [
    "#### Heat equation on a boundary *corner*\n",
    "So if we are considering the $x=0, i=0$, $y=0, j=0$, $z=0, k=0$ corner:\n",
    "$$\n",
    "\\frac{du_{0,0,0}(t)}{\\partial t} = \\alpha \\nabla^2 u_{0,0,0}(t) + f_{0,0,0}(t) + \\frac{h}{c\\rho}(T_{\\text{air}}-u_{0,0,0})\n",
    "$$\n",
    "where\n",
    "\n",
    "\\begin{align*}\n",
    "\\nabla^2 u_{0,0,0}(t) &= \\frac{1}{\\Delta x\\Delta y\\Delta z} \\left(\\frac{\\Delta y}{2} \\frac{\\Delta z}{2} \\frac{u_{1,0,0}(t) - u_{0,0,0}(t)}{\\Delta x} \n",
    "            + \\frac{\\Delta x}{2} \\frac{\\Delta z}{2} \\frac{u_{0,1,0}(t) - u_{0,0,0}(t)}{\\Delta y} \n",
    "            + \\frac{\\Delta x}{2} \\frac{\\Delta y}{2} \\frac{u_{0,0,1}(t) - 2 u_{0,0,0}(t)}{\\Delta z}\\right) \\\\\n",
    "    &= \\frac{1}{4} \\left(\\frac{2u_{1,0,0}(t) - 2u_{0,0,0}(t)}{\\Delta x^2} \n",
    "            + \\frac{2u_{0,1,0}(t) - 2u_{0,0,0}(t)}{\\Delta y^2} \n",
    "            + \\frac{2u_{0,0,1}(t) - 2 u_{0,0,0}(t)}{\\Delta z^2}\\right) \\\\\n",
    "\\end{align*}\n",
    "\n",
    "Again, with a uniform grid, this becomes:\n",
    "$$\n",
    "\\nabla^2 u_{0,0,0}(t) = \\frac{u_{1,0,0}(t) +  u_{0,1,0}(t) + u_{0,0,1}(t) - 3 u_{0,0,0}(t)}{2 \\Delta x^2}\n",
    "$$\n",
    "\n",
    "Following a similar method we can find for all 8 corners:\n",
    "\n",
    "\\begin{align*}\n",
    "    \\nabla^2 u_{0,0,0}(t) &= \\frac{u_{1,0,0}(t) +  u_{0,1,0}(t) + u_{0,0,1}(t) - 3 u_{0,0,0}(t)}{2 \\Delta x^2} \\\\\n",
    "    \\nabla^2 u_{I,0,0}(t) &= \\frac{u_{I-1,0,0}(t) +  u_{I,1,0}(t) + u_{I,0,1}(t) - 3 u_{I,0,0}(t)}{2 \\Delta x^2} \\\\\n",
    "    \\nabla^2 u_{0,J,0}(t) &= \\frac{u_{1,J,0}(t) +  u_{0,J-1,0}(t) + u_{0,J,1}(t) - 3 u_{0,J,0}(t)}{2 \\Delta x^2} \\\\\n",
    "    \\nabla^2 u_{0,0,K}(t) &= \\frac{u_{1,0,K}(t) +  u_{0,1,K}(t) + u_{0,0,K-1}(t) - 3 u_{0,0,K}(t)}{2 \\Delta x^2} \\\\\n",
    "    \\nabla^2 u_{I,J,0}(t) &= \\frac{u_{I-1,J,0}(t) +  u_{I,J-1,0}(t) + u_{I,J,1}(t) - 3 u_{I,J,0}(t)}{2 \\Delta x^2} \\\\\n",
    "    \\nabla^2 u_{I,0,K}(t) &= \\frac{u_{I-1,0,K}(t) +  u_{I,1,K}(t) + u_{I,0,K-1}(t) - 3 u_{I,0,K}(t)}{2 \\Delta x^2} \\\\\n",
    "    \\nabla^2 u_{0,J,K}(t) &= \\frac{u_{1,J,K}(t) +  u_{0,J-1,K}(t) + u_{0,J,K-1}(t) - 3 u_{0,J,K}(t)}{2 \\Delta x^2} \\\\\n",
    "    \\nabla^2 u_{I,J,K}(t) &= \\frac{u_{I-1,J,K}(t) +  u_{I,J-1,K}(t) + u_{I,J,K-1}(t) - 3 u_{I,J,K}(t)}{2 \\Delta x^2} \\\\\n",
    "\\end{align*}"
   ]
  },
  {
   "cell_type": "code",
   "execution_count": 2,
   "id": "37e1cc62-7fd7-4ba2-9d69-0b504885fbec",
   "metadata": {},
   "outputs": [],
   "source": [
    "def lap3DFE(umat,dx):\n",
    "    lap = np.empty_like(umat)\n",
    "\n",
    "    # Interior elements:\n",
    "    lap[1:-1,1:-1,1:-1] = (umat[:-2, 1:-1, 1:-1] + umat[2:, 1:-1, 1:-1] + umat[1:-1, :-2, 1:-1] + \n",
    "                           umat[1:-1, 2:, 1:-1] + umat[1:-1,1:-1,:-2] + umat[1:-1,1:-1,2:] - 6*umat[1:-1,1:-1,1:-1]) / dx**2\n",
    "\n",
    "    # Surface elements:\n",
    "    lap[0,1:-1,1:-1] = (2* umat[1, 1:-1, 1:-1] + \n",
    "                        umat[0, :-2, 1:-1] + umat[0, 2:, 1:-1] + umat[0, 1:-1, :-2] + umat[0, 1:-1, 2:] - 6*umat[0, 1:-1, 1:-1]) / (2*dx**2)\n",
    "    lap[-1,1:-1,1:-1] = (2* umat[-2, 1:-1, 1:-1] + \n",
    "                        umat[-1, :-2, 1:-1] + umat[-1, 2:, 1:-1] + umat[-1, 1:-1, :-2] + umat[-1, 1:-1, 2:] - 6*umat[-1, 1:-1, 1:-1]) / (2*dx**2)\n",
    "    lap[1:-1,0,1:-1] = (2* umat[1:-1, 1, 1:-1] + \n",
    "                        umat[:-2, 0, 1:-1] + umat[2:, 0, 1:-1] + umat[1:-1, 0, :-2] + umat[1:-1, 0, 2:] - 6*umat[1:-1, 0, 1:-1]) / (2*dx**2)\n",
    "    lap[1:-1,-1,1:-1] = (2* umat[1:-1, -2, 1:-1] + \n",
    "                        umat[:-2, -1, 1:-1] + umat[2:, -1, 1:-1] + umat[1:-1, -1, :-2] + umat[1:-1, -1, 2:] - 6*umat[1:-1, -1, 1:-1]) / (2*dx**2)\n",
    "    lap[1:-1,1:-1,0] = (2* umat[1:-1, 1:-1, 1] + \n",
    "                        umat[:-2, 1:-1, 0] + umat[2:, 1:-1, 0] + umat[1:-1, :-2, 0] + umat[1:-1, 2:, 0] - 6*umat[1:-1, 1:-1, 0]) / (2*dx**2)\n",
    "    lap[1:-1,1:-1,-1] = (2* umat[1:-1, 1:-1, -2] + \n",
    "                        umat[:-2, 1:-1, -1] + umat[2:, 1:-1, -1] + umat[1:-1, :-2, -1] + umat[1:-1, 2:, -1] - 6*umat[1:-1, 1:-1, -1]) / (2*dx**2)\n",
    "\n",
    "    # Edge Elements:\n",
    "    lap[0,0,1:-1] = (2 * umat[1, 0, 1:-1] + 2 * umat[0, 1, 1:-1] + umat[0, 0, :-2] + umat[0, 0, 2:] - 6*umat[0, 0, 1:-1]) / (4*dx**2)\n",
    "    lap[0,-1,1:-1] = (2 * umat[1, -1, 1:-1] + 2 * umat[0, -2, 1:-1] + umat[0, -1, :-2] + umat[0, -1, 2:] - 6*umat[0, -1, 1:-1]) / (4*dx**2)\n",
    "    lap[-1,0,1:-1] = (2 * umat[2, 0, 1:-1] + 2 * umat[-1, 1, 1:-1] + umat[-1, 0, :-2] + umat[-1, 0, 2:] - 6*umat[-1, 0, 1:-1]) / (4*dx**2)\n",
    "    lap[-1,-1,1:-1] = (2 * umat[2, -1, 1:-1] + 2 * umat[-1, -2, 1:-1] + umat[-1, -1, :-2] + umat[-1, -1, 2:] - 6*umat[-1, -1, 1:-1]) / (4*dx**2)\n",
    "    lap[0,1:-1,0] = (2 * umat[1, 1:-1, 0] + 2 * umat[0, 1:-1, 1] + umat[0, 2:, 0] + umat[0, :-2, 0] - 6*umat[0, 1:-1, 0]) / (4*dx**2)\n",
    "    lap[0,1:-1,-1] = (2 * umat[1, 1:-1, -1] + 2 * umat[0, 1:-1, -2] + umat[0, 2:, -1] + umat[0, :-2, -1] - 6*umat[0, 1:-1, -1]) / (4*dx**2)\n",
    "    lap[-1,1:-1,0] = (2 * umat[-2, 1:-1, 0] + 2 * umat[-1, 1:-1, 1] + umat[-1, 2:, 0] + umat[-1, :-2, 0] - 6*umat[-1, 1:-1, 0]) / (4*dx**2)\n",
    "    lap[-1,1:-1,-1] = (2 * umat[-2, 1:-1, -1] + 2 * umat[-1, 1:-1, -2] + umat[-1, 2:, -1] + umat[-1, :-2, -1] - 6*umat[-1, 1:-1, -1]) / (4*dx**2)\n",
    "    lap[1:-1,0,0] = (2 * umat[1:-1, 1, 0] + 2 * umat[1:-1, 0, 1] + umat[:-2, 0, 0] + umat[2:, 0, 0] - 6*umat[1:-1, 0, 0]) / (4*dx**2)\n",
    "    lap[1:-1,0,-1] = (2 * umat[1:-1, 1, -1] + 2 * umat[1:-1, 0, -2] + umat[:-2, 0, -1] + umat[2:, 0, -1] - 6*umat[1:-1, 0, -1]) / (4*dx**2)\n",
    "    lap[1:-1,-1,0] = (2 * umat[1:-1, -2, 0] + 2 * umat[1:-1, -1, 1] + umat[:-2, -1, 0] + umat[2:, -1, 0] - 6*umat[1:-1, -1, 0]) / (4*dx**2)\n",
    "    lap[1:-1,-1,-1] = (2 * umat[1:-1, 2, -1] + 2 * umat[1:-1, -1, -2] + umat[:-2, -1, -1] + umat[2:, -1, -1] - 6*umat[1:-1, -1, -1]) / (4*dx**2)    \n",
    "    \n",
    "    # Corner Elements:\n",
    "    lap[0,0,0] = (umat[1, 0, 0] + umat[0, 1, 0] + umat[0, 0, 1] - 3*umat[0, 0, 0]) / (2*dx**2)\n",
    "    lap[-1,0,0] = (umat[-2, 0, 0] + umat[-1, 1, 0] + umat[-1, 0, 1] - 3*umat[-1, 0, 0]) / (2*dx**2)\n",
    "    lap[0,-1,0] = (umat[1, -1, 0] + umat[0, -2, 0] + umat[0, -1, 1] - 3*umat[0, -1, 0]) / (2*dx**2)\n",
    "    lap[0,0,-1] = (umat[1, 0, -1] + umat[0, 1, -1] + umat[0, 0, -2] - 3*umat[0, 0, -1]) / (2*dx**2)\n",
    "    lap[0,-1,-1] = (umat[1, -1, -1] + umat[0, -2, -1] + umat[0, -1, -2] - 3*umat[0, -1, -1]) / (2*dx**2)\n",
    "    lap[-1,0,-1] = (umat[-2, 0, -1] + umat[-1, 1, -1] + umat[-1, 0, -2] - 3*umat[-1, 0, -1]) / (2*dx**2)\n",
    "    lap[-1,-1,0] = (umat[2, -1, 0] + umat[-1, -2, 0] + umat[-1, -1, 1] - 3*umat[-1, -1, 0]) / (2*dx**2)\n",
    "    lap[-1,-1,-1] = (umat[-2, -1, -1] + umat[-1, -2, -1] + umat[-1, -1, -2] - 3*umat[-1, -1, -1]) / (2*dx**2)\n",
    "\n",
    "    return lap"
   ]
  },
  {
   "cell_type": "markdown",
   "id": "a61d675c-26bb-4059-a714-fe967aa2f8f8",
   "metadata": {},
   "source": [
    "### Boundary Convection\n",
    "\n",
    "As discussed previously, the power exchange per unit volume due to convection is:\n",
    "\n",
    "$$\n",
    "\\left. \\frac{du}{dt}\\right|_{\\text{convection}} = \\frac{h}{c\\rho}\\left(T_{\\text{air}}-u(x_S,y_S,z_S,t)\\right)\n",
    "$$\n",
    "for points $(x_S,y_S,z_S)$ on the boundary of the object (assuming a uniform air temperature)."
   ]
  },
  {
   "cell_type": "code",
   "execution_count": 3,
   "id": "bb6d51d3-79f1-406a-adb2-2a258929b115",
   "metadata": {},
   "outputs": [],
   "source": [
    "def bdryConv(umat, Tair, h, c, rho, dx):\n",
    "    const = h/(c*rho*dx)\n",
    "\n",
    "    bdryTemp = np.zeros_like(umat)\n",
    "    uSurf = np.zeros_like(umat)\n",
    "\n",
    "    bdryTemp[0,:,:].fill(Tair)\n",
    "    bdryTemp[:,0,:].fill(Tair)\n",
    "    bdryTemp[:,:,0].fill(Tair)\n",
    "    bdryTemp[-1,:,:].fill(Tair)\n",
    "    bdryTemp[:,-1,:].fill(Tair)\n",
    "    bdryTemp[:,:,-1].fill(Tair)\n",
    "\n",
    "    uSurf[0,:,:] = umat[0,:,:]\n",
    "    uSurf[:,0,:] = umat[:,0,:]\n",
    "    uSurf[:,:,0] = umat[:,:,0]\n",
    "    uSurf[-1,:,:] = umat[-1,:,:]\n",
    "    uSurf[:,-1,:] = umat[:,-1,:]\n",
    "    uSurf[:,:,-1] = umat[:,:,-1]\n",
    "\n",
    "    duConvdt = const*(bdryTemp - uSurf)\n",
    "    return duConvdt    "
   ]
  },
  {
   "cell_type": "markdown",
   "id": "87e0ce42-1251-4703-9380-e18e5cc0d3e6",
   "metadata": {},
   "source": [
    "### Power generation\n",
    "\n",
    "As described previously, power generation is described as:\n",
    "\n",
    "$$\n",
    "f(x,y,z,t) = \\frac{P(x,y,z,t)}{c\\rho}\n",
    "$$\n",
    "\n",
    "where $c$ is the specific heat of the material, $\\rho$ is the density of the material, and $P(x,y,z,t)$ describes the power generation per unit volume in the material.  For now, I will assume that the power generation is due to direct sunlight at high noon on the equator at (either) equinox. That is, I will assume the sun is beating down on the top surface only, with direct intensity. So, for now, the power generated per unit volume is:\n",
    "\n",
    "$$\n",
    "P = \\frac{I_{\\text{sun}}}{D}\n",
    "$$\n",
    "where $I_{\\text{sun}}$ is the intensity of sunlight on the surface and $D$ is the thickness of the material absorbing the sunlight."
   ]
  },
  {
   "cell_type": "code",
   "execution_count": 4,
   "id": "7a8f1c64-f399-4a4f-a967-f12c24a79187",
   "metadata": {},
   "outputs": [],
   "source": [
    "def powerGen(umat, t, intensity, D, c, rho):\n",
    "    powerGen = np.zeros_like(umat)\n",
    "\n",
    "    powerDensity = intensity/(c*rho*D)\n",
    "    powerGen[:,:,-1].fill(powerDensity)\n",
    "\n",
    "    return powerGen"
   ]
  },
  {
   "cell_type": "markdown",
   "id": "fb863ad9-1928-45ac-852e-756da7cd20da",
   "metadata": {},
   "source": [
    "## Solving the heat equation numerically on a finite 3D grid\n",
    "As before\n",
    "$$\n",
    "\\frac{du_{ijk}(t)}{\\partial t} = \\alpha \\nabla^2 u_{ijk}(t) + f_{ijk}(t) + \\left. \\frac{du_{ijk}}{dt}\\right|_{\\text{convection}}\n",
    "$$\n",
    "Let's put this all together in a single function."
   ]
  },
  {
   "cell_type": "code",
   "execution_count": 5,
   "id": "2cc75de7-ec7c-4738-8d2e-18353a150f52",
   "metadata": {},
   "outputs": [],
   "source": [
    "def dudt(t,u, alpha, intensity, D, c, rho, h, Tair, dx):\n",
    "    dudt = alpha*lap3DFE(u,dx) + powerGen(u,t,intensity, D, c, rho) + bdryConv(u, Tair, h, c, rho, dx)\n",
    "    return dudt"
   ]
  },
  {
   "cell_type": "markdown",
   "id": "c9076949-3aff-4314-bacc-a66eaf86d607",
   "metadata": {},
   "source": [
    "I will have to flatten things as `solve_ivp` only solves a vector system of equations rather than the higher dimenionality matrix system that I've created."
   ]
  },
  {
   "cell_type": "code",
   "execution_count": 6,
   "id": "24170f28-97cb-4739-b7f9-059fd5b381d8",
   "metadata": {},
   "outputs": [],
   "source": [
    "def dudtFlat(t,uflat, alpha, intensity, D, c, rho, h, Tair, dx):\n",
    "    u = uflat.reshape(xmax,ymax,zmax)\n",
    "    return dudt(t,u, alpha, intensity, D, c, rho, h, Tair, dx).flatten()"
   ]
  },
  {
   "cell_type": "markdown",
   "id": "7bd7e3f8-5cb2-4a37-95fa-0b5457bf8adc",
   "metadata": {},
   "source": [
    "## Calculation 1:\n",
    "Attempt to recreate the following statement:\n",
    "\n",
    "- When it's 22 degrees Celsius outside, the temperature inside your car can heat up to 47 degrees Celsius within an hour."
   ]
  },
  {
   "cell_type": "code",
   "execution_count": 7,
   "id": "86e9f726-3eef-4d8b-a317-e1439fe95f61",
   "metadata": {},
   "outputs": [
    {
     "data": {
      "image/png": "[encoded data removed]",
      "text/plain": [
       "<Figure size 640x480 with 1 Axes>"
      ]
     },
     "metadata": {},
     "output_type": "display_data"
    }
   ],
   "source": [
    "%matplotlib inline\n",
    "import matplotlib.pyplot as plt\n",
    "from scipy.integrate import solve_ivp\n",
    "\n",
    "oneHour = 3600\n",
    "airTemp = 22\n",
    "hotCarTemp = 47\n",
    "u0.fill(airTemp)\n",
    "time = np.arange(0,oneHour,10)\n",
    "\n",
    "oneHourCalc = solve_ivp(dudtFlat, t_span=[0,oneHour], y0=u0.flatten(), t_eval= time, \n",
    "                        args=[thermalDiffusivity,solarIntensity,wallThickness,specificHeat,wallDensity,heatTransferCoef,airTemp,Deltax])\n",
    "\n",
    "avgBoxTempCalc1 = np.mean(oneHourCalc.y,axis=0)\n",
    "\n",
    "plt.plot(time,avgBoxTempCalc1,label='Avg Car Temp')\n",
    "plt.axhline(y=airTemp,label='Air Temp',ls='--',color='green')\n",
    "plt.axhline(y=hotCarTemp,label='Danger Temp',ls='--',color='red')\n",
    "plt.xlabel('Time (s)')\n",
    "plt.ylabel('Temperature (C)')\n",
    "plt.legend()\n",
    "plt.show()"
   ]
  },
  {
   "cell_type": "markdown",
   "id": "806d71c1-1454-466b-8ab2-3bee5b2e75b6",
   "metadata": {},
   "source": [
    "Power Generation in K/s"
   ]
  },
  {
   "cell_type": "code",
   "execution_count": 8,
   "id": "58037da3-e09f-4265-8bb5-e29909b21333",
   "metadata": {},
   "outputs": [
    {
     "data": {
      "text/plain": [
       "0.16666666666666666"
      ]
     },
     "execution_count": 8,
     "metadata": {},
     "output_type": "execute_result"
    }
   ],
   "source": [
    "solarIntensity/(wallDensity*specificHeat*wallThickness)"
   ]
  },
  {
   "cell_type": "markdown",
   "id": "11a7c498-3781-479d-8d5c-845c2b807dfd",
   "metadata": {},
   "source": [
    "Heat transfer rate in 1/s"
   ]
  },
  {
   "cell_type": "code",
   "execution_count": 9,
   "id": "b8d8a2cc-56d9-427a-9370-d9e49f722d5a",
   "metadata": {},
   "outputs": [
    {
     "name": "stdout",
     "output_type": "stream",
     "text": [
      "6.666666666666667e-06\n"
     ]
    },
    {
     "data": {
      "text/plain": [
       "150000.0"
      ]
     },
     "execution_count": 9,
     "metadata": {},
     "output_type": "execute_result"
    }
   ],
   "source": [
    "lam = heatTransferCoef/(wallDensity*specificHeat*Deltax)\n",
    "print(lam)\n",
    "1/lam"
   ]
  },
  {
   "cell_type": "markdown",
   "id": "d4d4d2d8-214d-493d-9ac2-2203b073dd37",
   "metadata": {},
   "source": [
    "## Calculation 2\n",
    "\n",
    "Recreate\n",
    "- When it's 27 degrees Celsius outside, the temperature inside your car can heat up to 37 degrees Celsius within 10 minutes."
   ]
  },
  {
   "cell_type": "code",
   "execution_count": 10,
   "id": "2a751b9e-b9fa-4651-a6ff-8e8a4c9fdf2a",
   "metadata": {},
   "outputs": [
    {
     "data": {
      "image/png": "[encoded data removed]",
      "text/plain": [
       "<Figure size 640x480 with 1 Axes>"
      ]
     },
     "metadata": {},
     "output_type": "display_data"
    }
   ],
   "source": [
    "tenMin = 60*10\n",
    "airTemp2 = 27\n",
    "hotCarTemp2 = 37\n",
    "u0.fill(airTemp2)\n",
    "time2 = np.arange(0,tenMin,10)\n",
    "\n",
    "tenMinCalc = solve_ivp(dudtFlat, t_span=[0,tenMin], y0=u0.flatten(), t_eval= time2, \n",
    "                        args=[thermalDiffusivity,solarIntensity,wallThickness,specificHeat,wallDensity,heatTransferCoef,airTemp2,Deltax])\n",
    "\n",
    "avgBoxTempCalc2 = np.mean(tenMinCalc.y,axis=0)\n",
    "\n",
    "plt.plot(time2,avgBoxTempCalc2,label='Avg Car Temp')\n",
    "plt.axhline(y=airTemp2,label='Air Temp',ls='--',color='green')\n",
    "plt.axhline(y=hotCarTemp2,label='Danger Temp',ls='--',color='red')\n",
    "plt.xlabel('Time (s)')\n",
    "plt.ylabel('Temperature (C)')\n",
    "plt.legend()\n",
    "plt.show()"
   ]
  },
  {
   "cell_type": "code",
   "execution_count": null,
   "id": "6fcbe8e7-b2e0-4344-b10c-5a9d01a6cfcd",
   "metadata": {},
   "outputs": [],
   "source": []
  }
 ],
 "metadata": {
  "kernelspec": {
   "display_name": "Python 3 (ipykernel)",
   "language": "python",
   "name": "python3"
  },
  "language_info": {
   "codemirror_mode": {
    "name": "ipython",
    "version": 3
   },
   "file_extension": ".py",
   "mimetype": "text/x-python",
   "name": "python",
   "nbconvert_exporter": "python",
   "pygments_lexer": "ipython3",
   "version": "3.12.2"
  }
 },
 "nbformat": 4,
 "nbformat_minor": 5
}
